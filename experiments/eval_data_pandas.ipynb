{
 "cells": [
  {
   "cell_type": "code",
   "execution_count": 1,
   "metadata": {},
   "outputs": [],
   "source": [
    "import pandas as pd\n",
    "import json\n",
    "from IPython.display import display"
   ]
  },
  {
   "cell_type": "code",
   "execution_count": 2,
   "metadata": {},
   "outputs": [],
   "source": [
    "def load_data_to_df(filepath):\n",
    "    with open(filepath, 'rb') as f:\n",
    "        res = json.load(f)\n",
    "    res = res['results']\n",
    "\n",
    "    df = pd.concat([pd.DataFrame(r) for r in res], axis=0, keys=range(len(res)))\n",
    "    df = pd.concat([df, df['hyperparam'].apply(pd.Series)], axis=1).drop(columns='hyperparam')\n",
    "    df = df.rename_axis(['rollout', 'config_id'], axis='index')\n",
    "    return df\n",
    "\n",
    "\n",
    "def get_mean_and_sem(df, test_metric='test_risk', val_metric='val_loss', hparam_config=None):    \n",
    "    # Select results for specific hparams\n",
    "    if hparam_config:\n",
    "        for key, val in hparam_config.items():\n",
    "            df = df[df[key] == val]\n",
    "        \n",
    "    # Select best hparams\n",
    "    df = df.loc[df.groupby('rollout')[val_metric].idxmin()]\n",
    "    \n",
    "    return df[test_metric].mean(), df[test_metric].sem()"
   ]
  },
  {
   "cell_type": "code",
   "execution_count": 3,
   "metadata": {},
   "outputs": [],
   "source": [
    "# Merge datasets\n",
    "def load_and_merge_datasets(filepaths, property_dict=None):\n",
    "    dfs = []\n",
    "    if not property_dict:\n",
    "        prop_name = 'version'\n",
    "        vals = range(len(filepaths))\n",
    "    else:\n",
    "        prop_name = list(property_dict.keys())[0]\n",
    "        vals = property_dict[prop_name]\n",
    "        \n",
    "    start_config_id = 0\n",
    "        \n",
    "    for filepath, prop in zip(filepaths, vals):\n",
    "        data_frame = load_data_to_df(filepath)\n",
    "        data_frame.drop(columns=['test_risk_optim', 'parameter_mse_optim', 'best_index'])\n",
    "        data_frame[prop_name] = prop\n",
    "        # data_frame.index = data_frame.index.droplevel('config_id')\n",
    "        data_frame = data_frame.reset_index()\n",
    "        \n",
    "        # Add new config id\n",
    "        data_frame = data_frame.reset_index()\n",
    "        end_config_id = start_config_id + data_frame['config_id'].max() + 1\n",
    "        config_ids = list(range(start_config_id, end_config_id))\n",
    "        start_config_id = end_config_id           \n",
    "        num_rollouts = data_frame['rollout'].max() + 1\n",
    "        data_frame['config_id'] = config_ids * num_rollouts\n",
    "        \n",
    "        data_frame.drop(columns=['test_risk_optim', 'parameter_mse_optim', 'best_index'])\n",
    "        dfs.append(data_frame)\n",
    "\n",
    "    df = pd.concat(dfs, ignore_index=True)\n",
    "    df = df.set_index(['rollout', 'config_id'])\n",
    "    df = df.drop(columns='index')\n",
    "    return df"
   ]
  },
  {
   "cell_type": "code",
   "execution_count": 4,
   "metadata": {},
   "outputs": [
    {
     "name": "stdout",
     "output_type": "stream",
     "text": [
      "(1.2280433942901667, 0.05006893609756681)\n",
      "(1.227631812576569, 0.05283398339489353)\n",
      "(1.233904024195733, 0.05280786517835165)\n"
     ]
    }
   ],
   "source": [
    "filepath1 = 'bennet_hetero/bennet_hetero_method=KMM-RF-1x-ref-kl_n=2000.json'\n",
    "filepath2 = 'bennet_hetero/bennet_hetero_method=KMM-RF-1x-ref-log_n=2000.json'\n",
    "fps = [filepath1, filepath2]\n",
    "property_dict = {'divergence': ['kl', 'log']}\n",
    "\n",
    "df1 = load_data_to_df(filepath1)\n",
    "df2 = load_data_to_df(filepath2)\n",
    "df3 = load_and_merge_datasets(fps, property_dict)\n",
    "\n",
    "print(get_mean_and_sem(df1))\n",
    "print(get_mean_and_sem(df2))\n",
    "print(get_mean_and_sem(df3))"
   ]
  },
  {
   "cell_type": "code",
   "execution_count": null,
   "metadata": {},
   "outputs": [],
   "source": []
  }
 ],
 "metadata": {
  "kernelspec": {
   "display_name": "Python3 (rgmm)",
   "language": "python",
   "name": "rgmm"
  },
  "language_info": {
   "codemirror_mode": {
    "name": "ipython",
    "version": 3
   },
   "file_extension": ".py",
   "mimetype": "text/x-python",
   "name": "python",
   "nbconvert_exporter": "python",
   "pygments_lexer": "ipython3",
   "version": "3.7.9"
  }
 },
 "nbformat": 4,
 "nbformat_minor": 4
}
