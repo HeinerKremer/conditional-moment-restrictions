{
 "cells": [
  {
   "cell_type": "code",
   "execution_count": 5,
   "metadata": {},
   "outputs": [
    {
     "name": "stdout",
     "output_type": "stream",
     "text": [
      "The autoreload extension is already loaded. To reload it, use:\n",
      "  %reload_ext autoreload\n"
     ]
    }
   ],
   "source": [
    "%load_ext autoreload\n",
    "\n",
    "import torch\n",
    "import numpy as np\n",
    "from kel.estimation import estimation"
   ]
  },
  {
   "cell_type": "markdown",
   "metadata": {},
   "source": [
    "## Generate some data"
   ]
  },
  {
   "cell_type": "code",
   "execution_count": 6,
   "metadata": {},
   "outputs": [],
   "source": [
    "def generate_data(n_sample):\n",
    "    e = np.random.normal(loc=0, scale=1.0, size=[n_sample, 1])\n",
    "    gamma = np.random.normal(loc=0, scale=0.1, size=[n_sample, 1])\n",
    "    delta = np.random.normal(loc=0, scale=0.1, size=[n_sample, 1])\n",
    "\n",
    "    z = np.random.uniform(low=-3, high=3, size=[n_sample, 1])\n",
    "    t = np.reshape(z[:, 0], [-1, 1]) + e + gamma\n",
    "    y = np.abs(t) + e + delta\n",
    "    return {'t': t, 'y': y, 'z': z}\n",
    "\n",
    "train_data = generate_data(n_sample=100)\n",
    "validation_data = generate_data(n_sample=100)\n",
    "test_data = generate_data(n_sample=10000)"
   ]
  },
  {
   "cell_type": "markdown",
   "metadata": {},
   "source": [
    "## Define a PyTorch model $f$ and a moment function $\\psi$"
   ]
  },
  {
   "cell_type": "code",
   "execution_count": 7,
   "metadata": {},
   "outputs": [],
   "source": [
    "model = torch.nn.Sequential(\n",
    "            torch.nn.Linear(1, 20),\n",
    "            torch.nn.LeakyReLU(),\n",
    "            torch.nn.Linear(20, 3),\n",
    "            torch.nn.LeakyReLU(),\n",
    "            torch.nn.Linear(3, 1)\n",
    "        )\n",
    "\n",
    "def moment_function(model_evaluation, y):\n",
    "    return model_evaluation - y"
   ]
  },
  {
   "cell_type": "markdown",
   "metadata": {},
   "source": [
    "## Train the model"
   ]
  },
  {
   "cell_type": "code",
   "execution_count": null,
   "metadata": {
    "scrolled": true
   },
   "outputs": [
    {
     "name": "stdout",
     "output_type": "stream",
     "text": [
      "Running:  divergence=chi2, reg_param=0.1\n",
      "Running:  divergence=chi2, reg_param=0.01\n",
      "Running:  divergence=chi2, reg_param=0.001\n",
      "Running:  divergence=chi2, reg_param=0.0001\n",
      "Running:  divergence=chi2, reg_param=1e-06\n",
      "Running:  divergence=chi2, reg_param=1e-08\n",
      "Running:  divergence=kl, reg_param=0.1\n",
      "Running:  divergence=kl, reg_param=0.01\n",
      "Running:  divergence=kl, reg_param=0.001\n",
      "Running:  divergence=kl, reg_param=0.0001\n"
     ]
    }
   ],
   "source": [
    "trained_model, stats = estimation(model=model,  # Use any PyTorch model\n",
    "                                  train_data=train_data,    # Format {'t': t, 'y': y, 'z': z}\n",
    "                                  moment_function=moment_function,  # moment_function(model_eval, y) -> (n_sample, dim_y)\n",
    "                                  estimation_method='KernelELNeural',   # Method in ['OLS', 'GMM', 'GEL', 'KernelEL', 'KernelMMR', 'SMD', 'KernelVMM', 'NeuralVMM', 'KernelELKernel', 'KernelELNeural', 'KernelFGEL', 'NeuralFGEL']\n",
    "                                  estimator_kwargs=None,    # Non-default arguments for estimators (default at `kel.default_config.py`)\n",
    "                                  hyperparams=None,     # Non-default hyperparams for estimators as {name: [val1, ..]}\n",
    "                                  validation_data=None,     # Format {'t': t, 'y': y, 'z': z}\n",
    "                                  val_loss_func=None,   # Custom validation loss: val_loss_func(model, validation_data) -> float\n",
    "                                  verbose=True)\n",
    "# Make prediction\n",
    "y_pred = trained_model(torch.Tensor(test_data['t']))"
   ]
  },
  {
   "cell_type": "code",
   "execution_count": null,
   "metadata": {},
   "outputs": [],
   "source": []
  },
  {
   "cell_type": "code",
   "execution_count": null,
   "metadata": {},
   "outputs": [],
   "source": []
  }
 ],
 "metadata": {
  "kernelspec": {
   "display_name": "Python3 (rgmm)",
   "language": "python",
   "name": "rgmm"
  },
  "language_info": {
   "codemirror_mode": {
    "name": "ipython",
    "version": 3
   },
   "file_extension": ".py",
   "mimetype": "text/x-python",
   "name": "python",
   "nbconvert_exporter": "python",
   "pygments_lexer": "ipython3",
   "version": "3.7.9"
  }
 },
 "nbformat": 4,
 "nbformat_minor": 4
}